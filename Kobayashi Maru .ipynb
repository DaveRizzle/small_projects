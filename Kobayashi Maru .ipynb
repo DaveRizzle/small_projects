{
 "cells": [
  {
   "cell_type": "code",
   "execution_count": null,
   "metadata": {},
   "outputs": [],
   "source": [
    "#Kobayashi Maru OOP Final\n",
    "\n",
    "import time\n",
    "import random\n",
    "\n",
    "#The Kobyashi Maru lies stranded in the Klingon neutral zone. Its passengers and captain are powerless.\n",
    "            \n",
    "    \n",
    "class Path_A(): #savior function is primary ending\n",
    "    \n",
    "    def __init__(self):\n",
    "        pass\n",
    "    \n",
    "    def savior(self):\n",
    "        print('The USS Enterprise lurches forward into the neutral zone. James Kirk knows that his fellow crew served bravely during their tenure with Starfleet. The USS Enterprise and Kobayashi Maru are lost to the Klingons, however, their actions proved to all future generations that Starfleet pilots who die protecting the helpless will be forever immortalized and remembered! The SIMULATION comes to an abrupt halt.')        \n",
    "        \n",
    "    def ram(self): #takes input and returns user choice for random.randint\n",
    "        choice = ''\n",
    "        while choice != '1':\n",
    "            time.sleep(4)\n",
    "            choice = input('Press 1 to ram the enemy.')\n",
    "        \n",
    "        return choice\n",
    "\n",
    "    def correctPath(chosenpath): #there are two endings.If chance == choice both ships die. If != KM survives!\n",
    "        \n",
    "        chance = str(random.randint(1, 2))\n",
    "        \n",
    "        if chosenpath == chance:\n",
    "            time.sleep(4)\n",
    "            print('The ships collide but the Kobayashi Maru is unintentionally destroyed. The USS Enterprise is lost.')\n",
    "        else:\n",
    "            time.sleep(4)\n",
    "            print('The ships collide and the USS Enterprise is damaged beyond repair, however, the Kobayashi Maru and its crew surive. The staff of the USS Enterprise are revered as heroes in Starfleet history. Simulation ends. ')"
   ]
  },
  {
   "cell_type": "code",
   "execution_count": null,
   "metadata": {},
   "outputs": [],
   "source": [
    "playAgain = 'yes'\n",
    "while playAgain == 'yes' or playAgain == 'y':\n",
    "\n",
    "    print('This is the Klingon neutral zone.')\n",
    "    time.sleep(4)\n",
    "    print('The Kobayashi Maru lies stranded hoping for rescue. Its commander and crew will die if it is not rescued soon.')\n",
    "    time.sleep(4)\n",
    "    print('You are commander James T Kirk from the USS Enterprise. Entering the neutral zone to rescue the stranded ship could result in an all out battle or even war! The question remains, what are you going to do?')\n",
    "    time.sleep(4)\n",
    "    print('A ship wide broadcast is announced by Commander Spock, \"Attention on deck, attention on deck: All service personnel are requested to begin code red alert protocol. Spock looks at you and says:')\n",
    "    print('\"The bridge is yours Sir, should we attempt rescue?')\n",
    "    time.sleep(4)\n",
    "\n",
    "    decision = input('Will you choose to attempt the rescue?').lower()\n",
    "\n",
    "    if decision == 'y':\n",
    "        path = Path_A()\n",
    "        time.sleep(4)\n",
    "        path.savior()\n",
    "    \n",
    "    if decision == 'n':\n",
    "        path = Path_A()\n",
    "        print('The crew go wild at your decision.')\n",
    "        time.sleep(4)\n",
    "        print('Commander Pike attempts to calm the situation, however, he insists that action must be taken. Commander Pike says, \"Starfleet trained us for this!\"')\n",
    "        time.sleep(4)\n",
    "        print('Spock shouts, \"If we increase our shields to 200% we may be able to ram the enemy and survive!')\n",
    "        time.sleep(4)\n",
    "        print('Scotty: \"I have disabled all non-essential systems and re-routed power to our shields. Shields now at 320% Captain.\"')\n",
    "        time.sleep(4)\n",
    "        choice = path.ram()\n",
    "        path.correctPath()\n",
    "        \n",
    "    time.sleep(4)\n",
    "    playAgain = input(\"Do you want to play again? Enter 'yes' or 'y' to continue playing.\")\n",
    "    print('\\n' * 100)\n",
    "    "
   ]
  },
  {
   "cell_type": "code",
   "execution_count": null,
   "metadata": {},
   "outputs": [],
   "source": []
  }
 ],
 "metadata": {
  "kernelspec": {
   "display_name": "Python 3",
   "language": "python",
   "name": "python3"
  },
  "language_info": {
   "codemirror_mode": {
    "name": "ipython",
    "version": 3
   },
   "file_extension": ".py",
   "mimetype": "text/x-python",
   "name": "python",
   "nbconvert_exporter": "python",
   "pygments_lexer": "ipython3",
   "version": "3.8.0"
  }
 },
 "nbformat": 4,
 "nbformat_minor": 4
}
