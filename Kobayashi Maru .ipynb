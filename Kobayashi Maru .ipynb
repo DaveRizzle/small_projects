#Kobayashi Maru OOP Final

import time
import random

#The Kobyashi Maru lies stranded in the Klingon neutral zone. Its passengers and captain are powerless.
            
    
class Path_A(): #savior function is primary ending
    
    def __init__(self):
        pass
    
    def savior(self):
        print('The USS Enterprise lurches forward into the neutral zone. James Kirk knows that his fellow crew served bravely during their tenure with Starfleet. The USS Enterprise and Kobayashi Maru are lost to the Klingons, however, their actions proved to all future generations that Starfleet pilots who die protecting the helpless will be forever immortalized and remembered! The SIMULATION comes to an abrupt halt.')        
        
    def ram(self): #takes input and returns user choice for random.randint
        choice = ''
        while choice != '1':
            time.sleep(4)
            choice = input('Press 1 to ram the enemy.')
        
        return choice

    def correctPath(chosenpath): #there are two endings.If chance == choice both ships die. If != KM survives!
        
        chance = str(random.randint(1, 2))
        
        if chosenpath == chance:
            time.sleep(4)
            print('The ships collide but the Kobayashi Maru is unintentionally destroyed. The USS Enterprise is lost.')
        else:
            time.sleep(4)
            print('The ships collide and the USS Enterprise is damaged beyond repair, however, the Kobayashi Maru and its crew surive. The staff of the USS Enterprise are revered as heroes in Starfleet history. Simulation ends. ')
