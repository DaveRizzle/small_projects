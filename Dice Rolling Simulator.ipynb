{
 "cells": [
  {
   "cell_type": "code",
   "execution_count": 4,
   "metadata": {},
   "outputs": [],
   "source": [
    "#OOP\n",
    "\n",
    "import random\n",
    "\n",
    "class Main():\n",
    "    \n",
    "    def __init__(self):\n",
    "        pass\n",
    "    \n",
    "    def game_play(self):\n",
    "        print('Welcome to our Dice Rolling Simulator')\n",
    "\n",
    "        play_game = input('Are you ready to roll the dice? Enter Yes or No.').lower()\n",
    "\n",
    "        if play_game.lower()[0] == 'y':\n",
    "            game_on = True\n",
    "            \n",
    "            def ran_int():\n",
    "                print('The die rolls ' + str(random.randint(1, 5)))\n",
    "                \n",
    "        while game_on:\n",
    "    \n",
    "            ran_int()\n",
    "            play_game = input('Are you ready to roll the dice? Enter Yes or No.').lower()\n",
    "            if play_game.lower()[0] == 'n':\n",
    "                game_on = False\n",
    "                print(\"You're no fun, let's play again soon!\")\n",
    "    \n",
    "    "
   ]
  },
  {
   "cell_type": "code",
   "execution_count": 5,
   "metadata": {},
   "outputs": [],
   "source": [
    "game = Main()"
   ]
  },
  {
   "cell_type": "code",
   "execution_count": 6,
   "metadata": {},
   "outputs": [
    {
     "name": "stdout",
     "output_type": "stream",
     "text": [
      "Welcome to our Dice Rolling Simulator\n",
      "Are you ready to roll the dice? Enter Yes or No.Y\n",
      "The die rolls 5\n",
      "Are you ready to roll the dice? Enter Yes or No.N\n",
      "You're no fun, let's play again soon\n"
     ]
    }
   ],
   "source": [
    "game.game_play()"
   ]
  }
 ],
 "metadata": {
  "kernelspec": {
   "display_name": "Python 3",
   "language": "python",
   "name": "python3"
  },
  "language_info": {
   "codemirror_mode": {
    "name": "ipython",
    "version": 3
   },
   "file_extension": ".py",
   "mimetype": "text/x-python",
   "name": "python",
   "nbconvert_exporter": "python",
   "pygments_lexer": "ipython3",
   "version": "3.7.3"
  }
 },
 "nbformat": 4,
 "nbformat_minor": 2
}
