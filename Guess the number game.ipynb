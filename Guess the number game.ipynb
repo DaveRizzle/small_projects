{
 "cells": [
  {
   "cell_type": "code",
   "execution_count": null,
   "metadata": {},
   "outputs": [],
   "source": [
    "#simple guess the number game\n",
    "\n",
    "import random\n",
    "\n",
    "while True:\n",
    "    a = random.randint(0,5)\n",
    "    b = input('Welcome to Guess the number, pick a number between one and five.')\n",
    "    if int(b) == int(a):\n",
    "        print('Good job!')\n",
    "    else:\n",
    "        print('Guess again')\n",
    "    "
   ]
  },
  {
   "cell_type": "code",
   "execution_count": 7,
   "metadata": {},
   "outputs": [],
   "source": [
    "#slightly more complex\n",
    "\n",
    "import random\n",
    "\n",
    "class Main():\n",
    "    \n",
    "    def __init__(self):\n",
    "        pass\n",
    "    \n",
    "    def game_play(self):\n",
    "        print('Welcome to the guess the number game, what is your name?')\n",
    "        name = input()\n",
    "        secretNumber = random.randint(1, 20)\n",
    "        \n",
    "        for guessesTaken in range(0, 6):\n",
    "            print('Take a guess')\n",
    "            guess = int(input())\n",
    "            if guess < secretNumber:\n",
    "                print(name + ', your guess is too low.')\n",
    "            elif guess > secretNumber:\n",
    "                print(name + ', your guess is too high.')\n",
    "            else:\n",
    "                break\n",
    "                \n",
    "        if guess == secretNumber:\n",
    "            print('Good job ' + name + ', you guessed my number in ' + str(guessesTaken) + ' turns')\n",
    "        else:\n",
    "            print('Nope, the number I was thinking of was' + int(secretNumber))"
   ]
  },
  {
   "cell_type": "code",
   "execution_count": 8,
   "metadata": {},
   "outputs": [],
   "source": [
    "game = Main()"
   ]
  },
  {
   "cell_type": "code",
   "execution_count": 9,
   "metadata": {},
   "outputs": [
    {
     "name": "stdout",
     "output_type": "stream",
     "text": [
      "Welcome to the guess the number game, what is your name?\n",
      "Dave\n",
      "Take a guess\n",
      "5\n",
      "Dave, your guess is too low.\n",
      "Take a guess\n",
      "9\n",
      "Dave, your guess is too high.\n",
      "Take a guess\n",
      "7\n",
      "Good job Dave, you guessed my number in 2 turns\n"
     ]
    }
   ],
   "source": [
    "game.game_play()"
   ]
  }
 ],
 "metadata": {
  "kernelspec": {
   "display_name": "Python 3",
   "language": "python",
   "name": "python3"
  },
  "language_info": {
   "codemirror_mode": {
    "name": "ipython",
    "version": 3
   },
   "file_extension": ".py",
   "mimetype": "text/x-python",
   "name": "python",
   "nbconvert_exporter": "python",
   "pygments_lexer": "ipython3",
   "version": "3.8.0"
  }
 },
 "nbformat": 4,
 "nbformat_minor": 4
}
